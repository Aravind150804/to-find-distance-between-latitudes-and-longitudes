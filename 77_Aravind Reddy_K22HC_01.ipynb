{
 "cells": [
  {
   "cell_type": "code",
   "execution_count": 1,
   "id": "21165a2d",
   "metadata": {},
   "outputs": [
    {
     "name": "stdout",
     "output_type": "stream",
     "text": [
      "Result: 278.54558935106695\n"
     ]
    }
   ],
   "source": [
    "from math import sin, cos, sqrt, atan2, radians\n",
    "\n",
    "# approximate radius of earth in km\n",
    "R = 6373.0\n",
    "\n",
    "lat1 = radians(52.2296756)\n",
    "lon1 = radians(21.0122287)\n",
    "lat2 = radians(52.406374)\n",
    "lon2 = radians(16.9251681)\n",
    "\n",
    "dlon = lon2 - lon1\n",
    "dlat = lat2 - lat1\n",
    "\n",
    "a = sin(dlat / 2)**2 + cos(lat1) * cos(lat2) * sin(dlon / 2)**2\n",
    "c = 2 * atan2(sqrt(a), sqrt(1 - a))\n",
    "\n",
    "distance = R * c\n",
    "\n",
    "print(\"Result:\", distance)\n"
   ]
  },
  {
   "cell_type": "code",
   "execution_count": 3,
   "id": "329caaa1",
   "metadata": {},
   "outputs": [
    {
     "name": "stdout",
     "output_type": "stream",
     "text": [
      "Enter Your Name:Aravind\n",
      "5 Digit AC Number :50000\n",
      "*************\n",
      "WELCOME Aravind\n",
      "Enter The Withdrawl Amount:9500\n",
      "your remaining balance : 500\n",
      "low Balance in Your Accunt\n"
     ]
    }
   ],
   "source": [
    "x=input(\"Enter Your Name:\")\n",
    "y=input(\"5 Digit AC Number :\")\n",
    "z=len(y)\n",
    "if(z==5):\n",
    "\n",
    "    print (\"*************\")\n",
    "    print(\"WELCOME\",x)\n",
    "a=int(input(\"Enter The Withdrawl Amount:\"))\n",
    "b=10000-a\n",
    "print(\"your remaining balance :\",b)\n",
    "if b<=5000:\n",
    "   print(\"low Balance in Your Accunt\")\n",
    "else:\n",
    "     print(\"Invalid user AC Number\")"
   ]
  },
  {
   "cell_type": "code",
   "execution_count": null,
   "id": "c5a49436",
   "metadata": {},
   "outputs": [],
   "source": []
  }
 ],
 "metadata": {
  "kernelspec": {
   "display_name": "Python 3 (ipykernel)",
   "language": "python",
   "name": "python3"
  },
  "language_info": {
   "codemirror_mode": {
    "name": "ipython",
    "version": 3
   },
   "file_extension": ".py",
   "mimetype": "text/x-python",
   "name": "python",
   "nbconvert_exporter": "python",
   "pygments_lexer": "ipython3",
   "version": "3.9.12"
  }
 },
 "nbformat": 4,
 "nbformat_minor": 5
}
